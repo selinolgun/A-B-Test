{
 "cells": [
  {
   "cell_type": "markdown",
   "metadata": {},
   "source": [
    "# Veri Anlama ve Ön İşleme"
   ]
  },
  {
   "cell_type": "code",
   "execution_count": 37,
   "metadata": {},
   "outputs": [],
   "source": [
    "import pandas as pd\n",
    "\n",
    "file_path = \"AB_Test_Results.csv\" \n",
    "df = pd.read_csv(file_path)"
   ]
  },
  {
   "cell_type": "code",
   "execution_count": 38,
   "metadata": {},
   "outputs": [
    {
     "name": "stdout",
     "output_type": "stream",
     "text": [
      "İlk 5 Satır:\n",
      "   USER_ID VARIANT_NAME  REVENUE\n",
      "0      737      variant      0.0\n",
      "1     2423      control      0.0\n",
      "2     9411      control      0.0\n",
      "3     7311      control      0.0\n",
      "4     6174      variant      0.0\n"
     ]
    }
   ],
   "source": [
    "print(\"İlk 5 Satır:\")\n",
    "print(df.head())"
   ]
  },
  {
   "cell_type": "code",
   "execution_count": 39,
   "metadata": {},
   "outputs": [
    {
     "name": "stdout",
     "output_type": "stream",
     "text": [
      "\n",
      "Veri Setinin Genel Bilgileri:\n",
      "<class 'pandas.core.frame.DataFrame'>\n",
      "RangeIndex: 10000 entries, 0 to 9999\n",
      "Data columns (total 3 columns):\n",
      " #   Column        Non-Null Count  Dtype  \n",
      "---  ------        --------------  -----  \n",
      " 0   USER_ID       10000 non-null  int64  \n",
      " 1   VARIANT_NAME  10000 non-null  object \n",
      " 2   REVENUE       10000 non-null  float64\n",
      "dtypes: float64(1), int64(1), object(1)\n",
      "memory usage: 234.5+ KB\n",
      "None\n"
     ]
    }
   ],
   "source": [
    "print(\"\\nVeri Setinin Genel Bilgileri:\")\n",
    "print(df.info())"
   ]
  },
  {
   "cell_type": "code",
   "execution_count": 40,
   "metadata": {},
   "outputs": [
    {
     "name": "stdout",
     "output_type": "stream",
     "text": [
      "\n",
      "Eksik Veri Kontrolü:\n",
      "USER_ID         0\n",
      "VARIANT_NAME    0\n",
      "REVENUE         0\n",
      "dtype: int64\n"
     ]
    }
   ],
   "source": [
    "print(\"\\nEksik Veri Kontrolü:\")\n",
    "print(df.isnull().sum())"
   ]
  },
  {
   "cell_type": "code",
   "execution_count": 41,
   "metadata": {},
   "outputs": [
    {
     "name": "stdout",
     "output_type": "stream",
     "text": [
      "\n",
      "Temel İstatistikler:\n",
      "            USER_ID       REVENUE\n",
      "count  10000.000000  10000.000000\n",
      "mean    4981.080200      0.099447\n",
      "std     2890.590115      2.318529\n",
      "min        2.000000      0.000000\n",
      "25%     2468.750000      0.000000\n",
      "50%     4962.000000      0.000000\n",
      "75%     7511.500000      0.000000\n",
      "max    10000.000000    196.010000\n"
     ]
    }
   ],
   "source": [
    "print(\"\\nTemel İstatistikler:\")\n",
    "print(df.describe())"
   ]
  },
  {
   "cell_type": "code",
   "execution_count": 42,
   "metadata": {},
   "outputs": [
    {
     "name": "stdout",
     "output_type": "stream",
     "text": [
      "\n",
      "VARIANT_NAME Sütunu Değerleri ve Dağılımı:\n",
      "variant    5016\n",
      "control    4984\n",
      "Name: VARIANT_NAME, dtype: int64\n"
     ]
    }
   ],
   "source": [
    "print(\"\\nVARIANT_NAME Sütunu Değerleri ve Dağılımı:\")\n",
    "print(df[\"VARIANT_NAME\"].value_counts())"
   ]
  },
  {
   "cell_type": "code",
   "execution_count": 43,
   "metadata": {},
   "outputs": [
    {
     "name": "stdout",
     "output_type": "stream",
     "text": [
      "\n",
      "Sütun Veri Tipleri:\n",
      "USER_ID           int64\n",
      "VARIANT_NAME     object\n",
      "REVENUE         float64\n",
      "dtype: object\n"
     ]
    }
   ],
   "source": [
    "print(\"\\nSütun Veri Tipleri:\")\n",
    "print(df.dtypes)"
   ]
  },
  {
   "cell_type": "code",
   "execution_count": 44,
   "metadata": {},
   "outputs": [
    {
     "name": "stdout",
     "output_type": "stream",
     "text": [
      "\n",
      "Düzeltilmiş Sütun Veri Tipleri:\n",
      "USER_ID           object\n",
      "VARIANT_NAME    category\n",
      "REVENUE          float64\n",
      "dtype: object\n"
     ]
    }
   ],
   "source": [
    "df[\"USER_ID\"] = df[\"USER_ID\"].astype(str)\n",
    "df[\"VARIANT_NAME\"] = df[\"VARIANT_NAME\"].astype(\"category\")\n",
    "\n",
    "print(\"\\nDüzeltilmiş Sütun Veri Tipleri:\")\n",
    "print(df.dtypes)"
   ]
  },
  {
   "cell_type": "markdown",
   "metadata": {},
   "source": [
    "# Hipotez Tanımlama ve İlk Keşif Analizi"
   ]
  },
  {
   "cell_type": "code",
   "execution_count": 45,
   "metadata": {},
   "outputs": [
    {
     "name": "stdout",
     "output_type": "stream",
     "text": [
      "🔎 A/B Testinin Amacı:\n",
      "Bu A/B testinin amacı, varyant grubundaki kullanıcılardan elde edilen gelirinin, kontrol grubuna göre anlamlı bir fark oluşturup oluşturmadığını belirlemektir.\n",
      "\n",
      "🎯 Hipotezler:\n",
      "H0 (Null Hipotezi): Varyant grubundan elde edilen gelir, kontrol grubundan elde edilen gelirden istatistiksel olarak farklı değildir.\n",
      "H1 (Alternatif Hipotez): Varyant grubundan elde edilen gelir, kontrol grubundan elde edilen gelirden istatistiksel olarak farklıdır.\n"
     ]
    }
   ],
   "source": [
    "import numpy as np\n",
    "\n",
    "print(\"🔎 A/B Testinin Amacı:\")\n",
    "print(\"Bu A/B testinin amacı, varyant grubundaki kullanıcılardan elde edilen gelirinin, kontrol grubuna göre anlamlı bir fark oluşturup oluşturmadığını belirlemektir.\")\n",
    "\n",
    "print(\"\\n🎯 Hipotezler:\")\n",
    "print(\"H0 (Null Hipotezi): Varyant grubundan elde edilen gelir, kontrol grubundan elde edilen gelirden istatistiksel olarak farklı değildir.\")\n",
    "print(\"H1 (Alternatif Hipotez): Varyant grubundan elde edilen gelir, kontrol grubundan elde edilen gelirden istatistiksel olarak farklıdır.\")"
   ]
  },
  {
   "cell_type": "code",
   "execution_count": 46,
   "metadata": {},
   "outputs": [],
   "source": [
    "control_group = df[df[\"VARIANT_NAME\"] == \"control\"][\"REVENUE\"]\n",
    "variant_group = df[df[\"VARIANT_NAME\"] == \"variant\"][\"REVENUE\"]\n",
    "\n",
    "control_mean = np.mean(control_group)\n",
    "variant_mean = np.mean(variant_group)\n",
    "\n",
    "control_median = np.median(control_group)\n",
    "variant_median = np.median(variant_group)\n",
    "\n",
    "control_std = np.std(control_group, ddof=1)\n",
    "variant_std = np.std(variant_group, ddof=1)"
   ]
  },
  {
   "cell_type": "code",
   "execution_count": 47,
   "metadata": {},
   "outputs": [
    {
     "name": "stdout",
     "output_type": "stream",
     "text": [
      "\n",
      "📊 Grup Bazında Temel İstatistikler:\n",
      "Kontrol Grubu: Ortalama Gelir = 0.1290, Ortanca Gelir = 0.0000, Standart Sapma = 3.0075\n",
      "Varyant Grubu: Ortalama Gelir = 0.0701, Ortanca Gelir = 0.0000, Standart Sapma = 1.3148\n"
     ]
    }
   ],
   "source": [
    "print(\"\\n📊 Grup Bazında Temel İstatistikler:\")\n",
    "print(f\"Kontrol Grubu: Ortalama Gelir = {control_mean:.4f}, Ortanca Gelir = {control_median:.4f}, Standart Sapma = {control_std:.4f}\")\n",
    "print(f\"Varyant Grubu: Ortalama Gelir = {variant_mean:.4f}, Ortanca Gelir = {variant_median:.4f}, Standart Sapma = {variant_std:.4f}\")"
   ]
  },
  {
   "cell_type": "markdown",
   "metadata": {},
   "source": [
    "# Veri Keşfi ve Görselleştirme"
   ]
  },
  {
   "cell_type": "code",
   "execution_count": 48,
   "metadata": {},
   "outputs": [
    {
     "data": {
      "image/png": "[encoded data removed]",
      "text/plain": [
       "<Figure size 1200x500 with 1 Axes>"
      ]
     },
     "metadata": {},
     "output_type": "display_data"
    }
   ],
   "source": [
    "import matplotlib.pyplot as plt\n",
    "import seaborn as sns\n",
    "\n",
    "plt.figure(figsize=(12, 5))\n",
    "sns.histplot(control_group, bins=50, color=\"blue\", alpha=0.5, label=\"Kontrol Grubu\", kde=True)\n",
    "sns.histplot(variant_group, bins=50, color=\"red\", alpha=0.5, label=\"Varyant Grubu\", kde=True)\n",
    "plt.legend()\n",
    "plt.title(\"Kontrol ve Varyant Gruplarının Gelir Dağılımı\")\n",
    "plt.xlabel(\"Gelir\")\n",
    "plt.ylabel(\"Frekans\")\n",
    "plt.show()"
   ]
  },
  {
   "cell_type": "code",
   "execution_count": 49,
   "metadata": {},
   "outputs": [
    {
     "data": {
      "image/png": "[encoded data removed]",
      "text/plain": [
       "<Figure size 800x500 with 1 Axes>"
      ]
     },
     "metadata": {},
     "output_type": "display_data"
    }
   ],
   "source": [
    "plt.figure(figsize=(8, 5))\n",
    "sns.boxplot(x=df[\"VARIANT_NAME\"], y=df[\"REVENUE\"], palette={\"control\": \"blue\", \"variant\": \"red\"})\n",
    "plt.title(\"Gelirlerin Boxplot Görselleştirmesi\")\n",
    "plt.xlabel(\"Grup\")\n",
    "plt.ylabel(\"Gelir\")\n",
    "plt.show()"
   ]
  },
  {
   "cell_type": "code",
   "execution_count": 50,
   "metadata": {},
   "outputs": [
    {
     "data": {
      "image/png": "[encoded data removed]",
      "text/plain": [
       "<Figure size 600x400 with 1 Axes>"
      ]
     },
     "metadata": {},
     "output_type": "display_data"
    }
   ],
   "source": [
    "plt.figure(figsize=(6, 4))\n",
    "sns.barplot(x=[\"Kontrol\", \"Varyant\"], y=[control_mean, variant_mean], palette=[\"blue\", \"red\"])\n",
    "plt.title(\"Kontrol ve Varyant Gruplarının Ortalama Geliri\")\n",
    "plt.ylabel(\"Ortalama Gelir\")\n",
    "plt.show()"
   ]
  },
  {
   "cell_type": "markdown",
   "metadata": {},
   "source": [
    "# İstatiksel Test Seçimi"
   ]
  },
  {
   "cell_type": "code",
   "execution_count": 51,
   "metadata": {},
   "outputs": [
    {
     "name": "stdout",
     "output_type": "stream",
     "text": [
      "Shapiro-Wilk Testi (Kontrol Grubu): p-değeri = 0.0\n",
      "Shapiro-Wilk Testi (Varyant Grubu): p-değeri = 0.0\n",
      "Kolmogorov-Smirnov Testi (Kontrol Grubu): p-değeri = 0.0\n",
      "Kolmogorov-Smirnov Testi (Varyant Grubu): p-değeri = 0.0\n"
     ]
    },
    {
     "name": "stderr",
     "output_type": "stream",
     "text": [
      "c:\\Users\\Fallrytme\\AppData\\Local\\Programs\\Python\\Python311\\Lib\\site-packages\\scipy\\stats\\_morestats.py:1816: UserWarning: p-value may not be accurate for N > 5000.\n",
      "  warnings.warn(\"p-value may not be accurate for N > 5000.\")\n"
     ]
    }
   ],
   "source": [
    "import scipy.stats as stats\n",
    "\n",
    "shapiro_control = stats.shapiro(control_group)\n",
    "shapiro_variant = stats.shapiro(variant_group)\n",
    "\n",
    "ks_control = stats.kstest(control_group, 'norm')\n",
    "ks_variant = stats.kstest(variant_group, 'norm')\n",
    "\n",
    "print(\"Shapiro-Wilk Testi (Kontrol Grubu): p-değeri =\", shapiro_control.pvalue)\n",
    "print(\"Shapiro-Wilk Testi (Varyant Grubu): p-değeri =\", shapiro_variant.pvalue)\n",
    "\n",
    "print(\"Kolmogorov-Smirnov Testi (Kontrol Grubu): p-değeri =\", ks_control.pvalue)\n",
    "print(\"Kolmogorov-Smirnov Testi (Varyant Grubu): p-değeri =\", ks_variant.pvalue)\n"
   ]
  },
  {
   "cell_type": "code",
   "execution_count": 52,
   "metadata": {},
   "outputs": [
    {
     "name": "stdout",
     "output_type": "stream",
     "text": [
      "Levene Testi (Varyans Homojenliği): p-değeri = 0.2037000785338918\n"
     ]
    }
   ],
   "source": [
    "levene_test = stats.levene(control_group, variant_group)\n",
    "print(\"Levene Testi (Varyans Homojenliği): p-değeri =\", levene_test.pvalue)"
   ]
  },
  {
   "cell_type": "code",
   "execution_count": 53,
   "metadata": {},
   "outputs": [
    {
     "name": "stdout",
     "output_type": "stream",
     "text": [
      "Veri normal DAĞILMIYOR, parametrik olmayan Mann-Whitney U testi uygulanıyor.\n",
      "Mann-Whitney U Testi Sonucu: p-değeri = 0.47825247965294926\n"
     ]
    }
   ],
   "source": [
    "if shapiro_control.pvalue > 0.05 and shapiro_variant.pvalue > 0.05:\n",
    "    print(\"Veri normal dağılıyor, bağımsız örneklem t-testi uygulanabilir.\")\n",
    "    \n",
    "    ttest = stats.ttest_ind(control_group, variant_group, equal_var=levene_test.pvalue > 0.05)\n",
    "    print(\"Bağımsız Örneklem T-Testi Sonucu: p-değeri =\", ttest.pvalue)\n",
    "    \n",
    "else:\n",
    "    print(\"Veri normal DAĞILMIYOR, parametrik olmayan Mann-Whitney U testi uygulanıyor.\")\n",
    "    \n",
    "    mann_whitney = stats.mannwhitneyu(control_group, variant_group, alternative=\"two-sided\")\n",
    "    print(\"Mann-Whitney U Testi Sonucu: p-değeri =\", mann_whitney.pvalue)"
   ]
  },
  {
   "cell_type": "markdown",
   "metadata": {},
   "source": [
    "# Sonuçların Yorumlanması"
   ]
  },
  {
   "cell_type": "code",
   "execution_count": 54,
   "metadata": {},
   "outputs": [
    {
     "name": "stdout",
     "output_type": "stream",
     "text": [
      "\n",
      "📊 **A/B Testi Sonuçları**\n",
      "\n",
      "✅ p-değeri = 0.4783 >= 0.05, istatistiksel olarak anlamlı bir fark bulunamadı, yani H0 REDDEDİLEMEZ!\n",
      "❌ Yeni varyantın gelir üzerinde anlamlı bir etkisi yok.\n",
      "\n",
      " 🔍 Analizi Derinleştirin:\n",
      "- Kullanıcı davranışlarını daha iyi anlamak için segment bazlı analizler yapın (örneğin, yeni ve mevcut kullanıcıları ayrı değerlendirin).\n",
      "- Kullanıcı deneyimi testleri ile yeni tasarımın kullanıcılar tarafından nasıl algılandığını analiz edin.\n",
      "\n",
      " 📈 Test Stratejisini Gözden Geçirin:\n",
      "- A/B testini daha uzun süre çalıştırarak daha fazla veri toplayın.\n",
      "- Farklı varyasyonlar oluşturarak yeni testler yapın.\n",
      "- A/A testi ile test sürecinin tutarlılığını kontrol edin.\n",
      "\n",
      " 🚀 Gelecek Aksiyonlar:\n",
      "- Yeni tasarımın neden gelir üzerinde olumlu bir etkisi olmadığını anlamak için daha fazla içgörü elde edin.\n",
      "- Alternatif varyantlar geliştirerek yeniden test edin.\n"
     ]
    }
   ],
   "source": [
    "def ab_test_sonuc_yorumu(p_value, alpha=0.05):\n",
    "    print(\"\\n📊 **A/B Testi Sonuçları**\\n\")\n",
    "    \n",
    "    if p_value < alpha:\n",
    "        print(f\"❌ p-değeri = {p_value:.4f} < {alpha}, yani H0 REDDEDİLİR!\")\n",
    "        print(\"✅ Yeni varyantın, gelir üzerinde anlamlı bir fark yaratıyor.\")\n",
    "        print(\"🚀 Aksiyon: Yeni varyant mevcut olanın yerine kullanılabilir.\")\n",
    "    else:\n",
    "        print(f\"✅ p-değeri = {p_value:.4f} >= {alpha}, istatistiksel olarak anlamlı bir fark bulunamadı, yani H0 REDDEDİLEMEZ!\")\n",
    "        print(\"❌ Yeni varyantın gelir üzerinde anlamlı bir etkisi yok.\")\n",
    "        print(\"\\n 🔍 Analizi Derinleştirin:\")\n",
    "        print(\"- Kullanıcı davranışlarını daha iyi anlamak için segment bazlı analizler yapın (örneğin, yeni ve mevcut kullanıcıları ayrı değerlendirin).\")\n",
    "        print(\"- Kullanıcı deneyimi testleri ile yeni tasarımın kullanıcılar tarafından nasıl algılandığını analiz edin.\")\n",
    "        print(\"\\n 📈 Test Stratejisini Gözden Geçirin:\")\n",
    "        print(\"- A/B testini daha uzun süre çalıştırarak daha fazla veri toplayın.\")\n",
    "        print(\"- Farklı varyasyonlar oluşturarak yeni testler yapın.\")\n",
    "        print(\"- A/A testi ile test sürecinin tutarlılığını kontrol edin.\")\n",
    "        print(\"\\n 🚀 Gelecek Aksiyonlar:\")\n",
    "        print(\"- Yeni tasarımın neden gelir üzerinde olumlu bir etkisi olmadığını anlamak için daha fazla içgörü elde edin.\")\n",
    "        print(\"- Alternatif varyantlar geliştirerek yeniden test edin.\")\n",
    "\n",
    "p_value = 0.47825247965294926  \n",
    "ab_test_sonuc_yorumu(p_value)"
   ]
  }
 ],
 "metadata": {
  "kernelspec": {
   "display_name": "Python 3.11.0 64-bit",
   "language": "python",
   "name": "python3"
  },
  "language_info": {
   "codemirror_mode": {
    "name": "ipython",
    "version": 3
   },
   "file_extension": ".py",
   "mimetype": "text/x-python",
   "name": "python",
   "nbconvert_exporter": "python",
   "pygments_lexer": "ipython3",
   "version": "3.11.0"
  },
  "orig_nbformat": 4,
  "vscode": {
   "interpreter": {
    "hash": "7c542dbbc07e6010b76b61de8a453dc04d29cd1fae7fbaa29851ecbad9aefb83"
   }
  }
 },
 "nbformat": 4,
 "nbformat_minor": 2
}
